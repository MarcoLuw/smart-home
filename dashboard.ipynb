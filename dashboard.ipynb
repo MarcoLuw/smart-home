{
 "cells": [
  {
   "cell_type": "code",
   "execution_count": null,
   "metadata": {},
   "outputs": [],
   "source": [
    "import gradio as gr\n",
    "import numpy as np\n",
    "import mongodb as db\n",
    "import pandas as pd\n",
    "import json\n",
    "from datetime import datetime\n",
    "import copy"
   ]
  },
  {
   "cell_type": "code",
   "execution_count": null,
   "metadata": {},
   "outputs": [],
   "source": [
    "# check existing collections\n",
    "collections = db.mydb.list_collection_names()\n",
    "for collection in collections:\n",
    "    print (collection)"
   ]
  },
  {
   "cell_type": "code",
   "execution_count": null,
   "metadata": {},
   "outputs": [],
   "source": [
    "docs = db.MemberColl.find()\n",
    "for doc in docs:\n",
    "    print(doc)"
   ]
  },
  {
   "cell_type": "code",
   "execution_count": null,
   "metadata": {},
   "outputs": [],
   "source": [
    "# query type = in, out as a status\n",
    "query = {'type': {'$ne': 'reg'}}\n",
    "docs = db.MemberColl.find(query)\n",
    "for doc in docs:\n",
    "    print(doc)"
   ]
  },
  {
   "cell_type": "code",
   "execution_count": null,
   "metadata": {},
   "outputs": [],
   "source": [
    "time = db.datetime.now()\n",
    "time = db.datetime.today()\n",
    "print(time)"
   ]
  },
  {
   "cell_type": "code",
   "execution_count": null,
   "metadata": {},
   "outputs": [],
   "source": [
    "query = {'type': {'$ne': 'reg'}}\n",
    "#doc = db.MemberColl.find_one(query, sort=[('_id', -1)])\\\n",
    "doc = db.MemberColl.find_one(query, sort=[('date', -1)])\n",
    "print(doc)"
   ]
  },
  {
   "cell_type": "code",
   "execution_count": null,
   "metadata": {},
   "outputs": [],
   "source": [
    "for ele in doc:\n",
    "    if ele == \"_id\": pass\n",
    "    else: print(f\"{ele}: {doc[ele]}\")"
   ]
  },
  {
   "cell_type": "code",
   "execution_count": null,
   "metadata": {},
   "outputs": [],
   "source": [
    "query = {'type': {'$ne': 'reg'}}\n",
    "projection = {\"_id\": 0}         # 0 mean exclude _id from query result\n",
    "docs = db.MemberColl.find(query, projection)\n",
    "# for doc in docs:\n",
    "#     print(doc)\n",
    "\n",
    "# data_list = [{'ID': '111', 'name': 'ElonMusk', 'status': 1, 'type': 'in', 'date': '2023, 4, 20, 21, 37, 18, 716000'}, \n",
    "# {'ID': '111', 'name': 'ElonMusk', 'status': 0, 'type': 'out', 'date': '2023, 4, 20, 21, 37, 33, 267000'}]\n",
    "\n",
    "data_list = list(docs)\n",
    "# Handle datetime format -> iso format\n",
    "for data in data_list:\n",
    "    data['date'] = data['date'].isoformat()\n",
    "\n",
    "#print(data_list)\n",
    "data_json = json.dumps(data_list)\n",
    "\n",
    "data = json.loads(data_json)\n",
    "df = pd.DataFrame(data)\n",
    "print(df)    "
   ]
  },
  {
   "cell_type": "code",
   "execution_count": null,
   "metadata": {},
   "outputs": [],
   "source": [
    "print(df)"
   ]
  },
  {
   "cell_type": "code",
   "execution_count": null,
   "metadata": {},
   "outputs": [],
   "source": [
    "def run_query():\n",
    "    query = {'type': {'$ne': 'reg'}}\n",
    "    projection = {\"_id\": 0}         # 0 mean exclude _id from query result\n",
    "    docs = db.MemberColl.find(query, projection)\n",
    "\n",
    "    data_list = list(docs)\n",
    "\n",
    "    # Handle datetime format -> iso format\n",
    "    for data in data_list:\n",
    "        data['date'] = data['date'].isoformat()\n",
    "\n",
    "    # convert to json type\n",
    "    data_json = json.dumps(data_list)\n",
    "\n",
    "    data = json.loads(data_json)\n",
    "    df = pd.DataFrame(data)\n",
    "    return df\n",
    "\n",
    "print(data)\n",
    "with gr.Blocks() as demo:\n",
    "    with gr.Tab(\"Logs\"):\n",
    "        gr.Markdown(\"# 📝 Log Status Dashboard\")\n",
    "        btn = gr.Button(\"Show Log\")\n",
    "        btn.click(run_query, outputs=gr.DataFrame(run_query))\n",
    "    \n",
    "demo.launch()\n"
   ]
  },
  {
   "cell_type": "code",
   "execution_count": null,
   "metadata": {},
   "outputs": [],
   "source": [
    "# Handle data\n",
    "# convert datetime format to get a day\n",
    "def getDay(date):\n",
    "    date_obj = datetime.strptime(date, '%Y-%m-%dT%H:%M:%S.%f')\n",
    "    day = date_obj.day\n",
    "    return str(day)\n",
    "\n",
    "data2 = copy.deepcopy(data)\n",
    "    \n",
    "for obj in data2:\n",
    "    obj['date'] = getDay(obj['date'])\n",
    "\n",
    "print(data2)\n",
    "print(data)\n",
    "\n"
   ]
  },
  {
   "cell_type": "code",
   "execution_count": null,
   "metadata": {},
   "outputs": [],
   "source": [
    "graph_data = [{'type': data2[0]['type'], 'date': data2[0]['date'], 'count': 0}]\n",
    "\n",
    "for i in range(1,len(data2)):\n",
    "    j = 0\n",
    "    while (j < len(graph_data)):\n",
    "        if data2[i]['date'] == graph_data[j]['date'] and data2[i]['type'] == graph_data[j]['type']:\n",
    "            break\n",
    "        j += 1\n",
    "    if j != len(graph_data): continue\n",
    "    else: graph_data.append({'type': data2[i]['type'], 'date': data2[i]['date'], 'count': 0})\n",
    "\n",
    "for i in range(len(data2)):\n",
    "    if data2[i]['type'] == 'in':\n",
    "        for j in range(len(graph_data)):\n",
    "            if graph_data[j]['type'] == 'in' and graph_data[j]['date'] == data2[i]['date']:\n",
    "                graph_data[j]['count'] += 1\n",
    "                break\n",
    "        continue\n",
    "    else:\n",
    "        for j in range(len(graph_data)):\n",
    "            if graph_data[j]['type'] == 'out' and graph_data[j]['date'] == data2[i]['date']:\n",
    "                graph_data[j]['count'] += 1\n",
    "                break\n",
    "        continue\n",
    "\n",
    "count = 0    \n",
    "for i in range(len(graph_data)):\n",
    "    count += graph_data[i]['count']\n",
    "\n",
    "\n",
    "print(data2)\n",
    "print(graph_data)\n",
    "print(len(graph_data))\n",
    "print(count)\n",
    "\n"
   ]
  },
  {
   "cell_type": "code",
   "execution_count": null,
   "metadata": {},
   "outputs": [],
   "source": [
    "df_graph = pd.DataFrame(graph_data)"
   ]
  },
  {
   "cell_type": "code",
   "execution_count": null,
   "metadata": {},
   "outputs": [],
   "source": [
    "\n",
    "def line_plot_fn():\n",
    "    return gr.BarPlot.update(\n",
    "            df_graph,\n",
    "            x=\"date\",\n",
    "            y=\"count\",\n",
    "            color=\"type\",\n",
    "            #color_legend_position=\"bottom\",\n",
    "            title=\"Frequency\",\n",
    "            tooltip=['date', 'count', 'type'],\n",
    "            height=500,\n",
    "            width=500\n",
    "    )\n",
    "\n",
    "with gr.Blocks() as line_plot:\n",
    "      plot = gr.BarPlot(show_label=False).style(container=False)\n",
    "      #df.change(line_plot_fn, inputs=df, outputs=plot)\n",
    "      line_plot.load(fn=line_plot_fn, outputs=plot)\n",
    "        \n",
    "\n",
    "line_plot.launch()"
   ]
  }
 ],
 "metadata": {
  "kernelspec": {
   "display_name": "Python 3",
   "language": "python",
   "name": "python3"
  },
  "language_info": {
   "codemirror_mode": {
    "name": "ipython",
    "version": 3
   },
   "file_extension": ".py",
   "mimetype": "text/x-python",
   "name": "python",
   "nbconvert_exporter": "python",
   "pygments_lexer": "ipython3",
   "version": "3.8.5"
  },
  "orig_nbformat": 4
 },
 "nbformat": 4,
 "nbformat_minor": 2
}
